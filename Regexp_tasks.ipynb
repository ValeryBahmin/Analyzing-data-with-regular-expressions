{
 "cells": [
  {
   "cell_type": "markdown",
   "metadata": {
    "id": "JsYHMFD1VJ3V"
   },
   "source": [
    "## Задача 1: Проверка валидности номера транспортного средства\n",
    "Напишите функцию, которая принимает на вход строку и проверяет является ли она валидным транспортным номером (1 буква, 3 цифры, 2 буквы, 2-3 цифры). Обратите внимание, что не все буквы кириллического алфавита используются в транспортных номерах.\n",
    "\n",
    "Если номер валиден, то функция должна возвращать отдельно номер и регион.\n"
   ]
  },
  {
   "cell_type": "code",
   "execution_count": 1,
   "metadata": {
    "id": "RAMM4eyZ7XFZ"
   },
   "outputs": [],
   "source": [
    "import re"
   ]
  },
  {
   "cell_type": "code",
   "execution_count": 4,
   "metadata": {
    "colab": {
     "base_uri": "https://localhost:8080/"
    },
    "id": "JqTFjhGw7jGI",
    "outputId": "d30b54a6-35bb-4663-f9e8-1c50769ea511"
   },
   "outputs": [
    {
     "name": "stdout",
     "output_type": "stream",
     "text": [
      "Номер А222ВС валиден. Регион 799\n"
     ]
    }
   ],
   "source": [
    "def check_car_id(car_id):\n",
    "    \"\"\"\n",
    "    Функция проверки валидности транспортного номера.\n",
    "    по шаблону (1 буква, 3 цифры, 2 буквы, 2-3 цифры) \n",
    "    \"\"\"\n",
    "    num = re.findall(r'[АВЕКМНОРСТУХ]\\d{3}[АВЕКМНОРСТУХ]{2}\\d{2,3}', car_id)\n",
    "    if len(num) == 0: \n",
    "       return print(f'Номер не валиден')\n",
    "    else:\n",
    "       num_ = re.findall(r'^[АВЕКМНОРСТУХ]\\d{3}[АВЕКМНОРСТУХ]{2}', car_id)\n",
    "       reg = re.findall(r'\\d{2,3}$', car_id)\n",
    "       return print(f'Номер {num_[0]} валиден. Регион {reg[0]}')\n",
    "\n",
    "car_id = 'А222ВС799'\n",
    "#car_id = 'АБ22ВВ193'\n",
    "check_car_id(car_id)"
   ]
  },
  {
   "cell_type": "markdown",
   "metadata": {
    "id": "zGb5cg4L9iIT"
   },
   "source": [
    "## Задача 2: Удаление повторов слов в строке\n",
    "Напишите функцию, которая будет удалять все последовательные повторы слов из заданной строки при помощи регулярных выражений."
   ]
  },
  {
   "cell_type": "code",
   "execution_count": 5,
   "metadata": {
    "colab": {
     "base_uri": "https://localhost:8080/"
    },
    "id": "YWCNAe-R9nuu",
    "outputId": "b72c1567-6074-4b7c-ed7d-7229310108d6"
   },
   "outputs": [
    {
     "name": "stdout",
     "output_type": "stream",
     "text": [
      "Напишите функцию, которая будет удалять все последовательные повторы слов из заданной строки при помощи регулярных выражений.\n"
     ]
    }
   ],
   "source": [
    "some_string = 'Напишите функцию функцию, которая будет будет будет будет удалять все все все все последовательные повторы слов из из из из заданной строки строки при помощи регулярных выражений.'\n",
    "def del_dublicate_word(some_string):\n",
    "    \"\"\"\n",
    "    Функция для удаления последовательных повторов слов в строке.\n",
    "    \"\"\"\n",
    "    print(re.sub(r'\\b(\\w+)(\\s+\\1)+\\b', r'\\1', some_string))\n",
    "\n",
    "del_dublicate_word(some_string)"
   ]
  },
  {
   "cell_type": "markdown",
   "metadata": {
    "id": "xe-cnZ8Rk3xS"
   },
   "source": [
    "## Задача 3: Создание акронима из слов в заданной строке\n",
    "Напишите функцию, которая будет возвращать акроним по переданной в нее строке со словами."
   ]
  },
  {
   "cell_type": "code",
   "execution_count": 8,
   "metadata": {
    "colab": {
     "base_uri": "https://localhost:8080/"
    },
    "id": "EGeSvCopk7RL",
    "outputId": "b9cc24b4-2525-4461-c933-314ecbe590fa"
   },
   "outputs": [
    {
     "name": "stdout",
     "output_type": "stream",
     "text": [
      "NFC"
     ]
    }
   ],
   "source": [
    "#some_words = 'Информационные технологии'\n",
    "some_words = 'Near Field Communication'\n",
    "def acronym(some_words):\n",
    "    \"\"\"\n",
    "    Функция, возвращающая акроним по переданной в нее строке со словами.\n",
    "    \"\"\"\n",
    "    acronym_list = re.findall(r'\\b(\\w)', some_words)\n",
    "    for item in acronym_list:\n",
    "        print(item.upper(), end='')\n",
    "\n",
    "acronym(some_words)"
   ]
  },
  {
   "cell_type": "markdown",
   "metadata": {
    "id": "n3P0Z4ZTsnvN"
   },
   "source": [
    "## Задача 4: Подсчет количества доменных зон в списке email-адресов\n",
    "Напишите функцию, которая будет принимать на вход список email-адресов и выводить их распределение по доменным зонам."
   ]
  },
  {
   "cell_type": "code",
   "execution_count": 9,
   "metadata": {
    "colab": {
     "base_uri": "https://localhost:8080/"
    },
    "id": "A7UbwFTJswU4",
    "outputId": "edb7b6d3-bf7a-4671-d025-6978e616cdf5"
   },
   "outputs": [
    {
     "name": "stdout",
     "output_type": "stream",
     "text": [
      "gmail.com: 2\n",
      "test.in: 1\n",
      "ya.ru: 2\n",
      "mail.ru: 1\n"
     ]
    }
   ],
   "source": [
    "emails = ['test@gmail.com', 'xyz@test.in', 'test@ya.ru', 'xyz@mail.ru', 'xyz@ya.ru', 'xyz@gmail.com']\n",
    "\n",
    "def domains(emails):\n",
    "    \"\"\"\n",
    "    Функция определения и печати количества доменов в списке email-адресов.\n",
    "    \"\"\"\n",
    "    domains_dict = {}\n",
    "    for item in emails:\n",
    "        key = re.findall(r'(?<=@)[a-zA-Z0-9_-]+\\.[a-zA-Z]{2,5}$', item)\n",
    "        if key[0] in domains_dict.keys():\n",
    "            domains_dict[key[0]] = domains_dict[key[0]] + 1\n",
    "        else:\n",
    "            domains_dict[key[0]] = 1   \n",
    "    \n",
    "    for key, value in domains_dict.items():\n",
    "        print(f'{key}: {value}')\n",
    "\n",
    "domains(emails)"
   ]
  },
  {
   "cell_type": "markdown",
   "metadata": {
    "id": "6-tl0z1n_w4K"
   },
   "source": [
    "## Задача 5: Подсчет количества слов, начинающихся на гласные (согласные) буквы\n",
    "\n",
    "Напишите функцию, которая будет подсчитывать сколько слов начинается на гласные, а сколько на согласные буквы в тексте (текст может быть написан как с использованием букв кириллицы, так и латиницы)."
   ]
  },
  {
   "cell_type": "code",
   "execution_count": 10,
   "metadata": {
    "colab": {
     "base_uri": "https://localhost:8080/"
    },
    "id": "YsNxu1Yn_8rp",
    "outputId": "290e4546-93b9-4956-e7de-f3fa0475897c"
   },
   "outputs": [
    {
     "name": "stdout",
     "output_type": "stream",
     "text": [
      "Слов на гласные буквы: 9\n",
      "Слов на согласные буквы: 21\n"
     ]
    }
   ],
   "source": [
    "some_text = 'Эталонной реализацией Python является интерпретатор CPython, поддерживающий большинство активно используемых платформ. Он распространяется под свободной лицензией Python Software Foundation License, позволяющей использовать его без ограничений в любых приложениях, включая проприетарные.'\n",
    "def count_words(some_text):\n",
    "    \"\"\"\n",
    "    Функция подсчета количества слов в тексте, которые начинаются на гласные (согласные) буквы.\n",
    "    \"\"\"\n",
    "    vowels_words = re.findall(r'\\b[аоэеиыуёюяaoueiy]', some_text, flags=re.I)\n",
    "    consonants_words = re.findall(r'\\b[йцкнгшщзхфвпрлджбтмсчqwrtplkjhgfdszxcvbnm]', some_text, flags=re.I)\n",
    "    print(f'Слов на гласные буквы: {len(vowels_words)}')\n",
    "    print(f'Слов на согласные буквы: {len(consonants_words)}')\n",
    "        \n",
    "count_words(some_text)"
   ]
  },
  {
   "cell_type": "markdown",
   "metadata": {
    "id": "iHwQpiC5QN0G"
   },
   "source": [
    "## Задача 6: Проверка валидности телефонного номера\n",
    "\n",
    "Напишите функцию, которая будет проверять номер сотового телефона на валидность (только для российского формата), если он валиден, то переводить его в формат:\n",
    "+7-xxx-xxx-xx-xx\n",
    "\n",
    "Постарайтесь предусмотреть как можно больше адекватных форматов изначального ввода номера. "
   ]
  },
  {
   "cell_type": "code",
   "execution_count": 11,
   "metadata": {
    "colab": {
     "base_uri": "https://localhost:8080/"
    },
    "id": "zxh_UYsXQgEw",
    "outputId": "10b15deb-0563-47b6-ee72-b2647222607d"
   },
   "outputs": [
    {
     "name": "stdout",
     "output_type": "stream",
     "text": [
      "+7-955-555-55-55\n"
     ]
    }
   ],
   "source": [
    "phone = '+7 955 555-55-55'\n",
    "#phone = '8(955)555 55 55'\n",
    "#phone = '423-555-55-5555'\n",
    "\n",
    "def check_phone_num(phone):\n",
    "    \"\"\"\n",
    "    Функция валидации телефонных номеров и перевода в формат:+7-xxx-xxx-xx-xx\n",
    "    \"\"\"\n",
    "    number = re.findall(r'^\\+?[7|8][\\- ]?\\(?(\\d{3})\\)?[\\- ]?(\\d{3})[\\- ]?(\\d{2})[\\- ]?(\\d{2})$', phone)\n",
    "    if len(number) != 0:\n",
    "        print(f'+7-{number[0][0]}-{number[0][1]}-{number[0][2]}-{number[0][3]}')\n",
    "    else:\n",
    "        print('Номер не валиден')\n",
    "\n",
    "check_phone_num(phone)"
   ]
  }
 ],
 "metadata": {
  "colab": {
   "collapsed_sections": [],
   "name": "ДЗ_8 Регулярные выражения.ipynb",
   "provenance": []
  },
  "kernelspec": {
   "display_name": "Python 3",
   "language": "python",
   "name": "python3"
  },
  "language_info": {
   "codemirror_mode": {
    "name": "ipython",
    "version": 3
   },
   "file_extension": ".py",
   "mimetype": "text/x-python",
   "name": "python",
   "nbconvert_exporter": "python",
   "pygments_lexer": "ipython3",
   "version": "3.6.13"
  }
 },
 "nbformat": 4,
 "nbformat_minor": 4
}
